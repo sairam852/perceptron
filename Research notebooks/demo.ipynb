{
 "cells": [
  {
   "cell_type": "code",
   "execution_count": 1,
   "id": "55272786",
   "metadata": {},
   "outputs": [],
   "source": [
    "import numpy as np"
   ]
  },
  {
   "cell_type": "code",
   "execution_count": 2,
   "id": "fe23a4dc",
   "metadata": {},
   "outputs": [
    {
     "ename": "ModuleNotFoundError",
     "evalue": "No module named 'utils'",
     "output_type": "error",
     "traceback": [
      "\u001b[0;31m---------------------------------------------------------------------------\u001b[0m",
      "\u001b[0;31mModuleNotFoundError\u001b[0m                       Traceback (most recent call last)",
      "\u001b[0;32m/tmp/ipykernel_11343/2263698644.py\u001b[0m in \u001b[0;36m<module>\u001b[0;34m\u001b[0m\n\u001b[0;32m----> 1\u001b[0;31m \u001b[0;32mfrom\u001b[0m \u001b[0mutils\u001b[0m\u001b[0;34m.\u001b[0m\u001b[0mmodel\u001b[0m \u001b[0;32mimport\u001b[0m \u001b[0mPerceptron\u001b[0m\u001b[0;34m\u001b[0m\u001b[0;34m\u001b[0m\u001b[0m\n\u001b[0m\u001b[1;32m      2\u001b[0m \u001b[0;32mfrom\u001b[0m \u001b[0mutils\u001b[0m\u001b[0;34m.\u001b[0m\u001b[0mall_utils\u001b[0m \u001b[0;32mimport\u001b[0m \u001b[0mprepare_data\u001b[0m\u001b[0;34m,\u001b[0m\u001b[0msave_model\u001b[0m\u001b[0;34m,\u001b[0m\u001b[0msave_plot\u001b[0m\u001b[0;34m\u001b[0m\u001b[0;34m\u001b[0m\u001b[0m\n\u001b[1;32m      3\u001b[0m \u001b[0;32mimport\u001b[0m \u001b[0mpandas\u001b[0m \u001b[0;32mas\u001b[0m \u001b[0mpd\u001b[0m\u001b[0;34m\u001b[0m\u001b[0;34m\u001b[0m\u001b[0m\n\u001b[1;32m      4\u001b[0m \u001b[0;32mimport\u001b[0m \u001b[0mnumpy\u001b[0m \u001b[0;32mas\u001b[0m \u001b[0mnp\u001b[0m\u001b[0;34m\u001b[0m\u001b[0;34m\u001b[0m\u001b[0m\n\u001b[1;32m      5\u001b[0m \u001b[0;34m\u001b[0m\u001b[0m\n",
      "\u001b[0;31mModuleNotFoundError\u001b[0m: No module named 'utils'"
     ]
    }
   ],
   "source": [
    "from utils.model import Perceptron\n",
    "from utils.all_utils import prepare_data,save_model,save_plot\n",
    "import pandas as pd\n",
    "import numpy as np\n",
    "\n",
    "from utils.model import Perceptron\n",
    "from utils.all_utils import prepare_data,save_model,save_plot\n",
    "import pandas as pd\n",
    "import numpy as np\n",
    "\n",
    "def main(data,eta,epochs,filename,plotFileName):\n",
    "    df=pd.DataFrame(data)\n",
    "\n",
    "    print(df)\n",
    "    X,y=prepare_data(df)\n",
    "    model=Perceptron(eta=eta,epochs=epochs)\n",
    "    model.fit(X,y)\n",
    "    _=model.total_loss() #dummy variable _ we can remove it whenever we want\n",
    "\n",
    "    save_model(model,filename=filename)\n",
    "    save_plot(df,plotFileName,model)\n",
    "\n",
    "\n",
    "OR={\n",
    "\"x1\":[0,0,1,1],\n",
    "\"x2\":[0,1,0,1],\n",
    "\"y\":[0,1,1,1],\n",
    "}\n",
    "ETA=0.3\n",
    "EPOCHS=10\n",
    "main(data=OR,eta=ETA,epochs=EPOCHS,filename=\"or.model\",plotFileName=\"or.png\")"
   ]
  }
 ],
 "metadata": {
  "interpreter": {
   "hash": "75a487a1f722eec36c266898acea6d86705cae539c1674c07844ead532017974"
  },
  "kernelspec": {
   "display_name": "Python 3.7.11 64-bit ('oneNeuron': conda)",
   "name": "python3"
  },
  "language_info": {
   "codemirror_mode": {
    "name": "ipython",
    "version": 3
   },
   "file_extension": ".py",
   "mimetype": "text/x-python",
   "name": "python",
   "nbconvert_exporter": "python",
   "pygments_lexer": "ipython3",
   "version": "3.7.11"
  }
 },
 "nbformat": 4,
 "nbformat_minor": 5
}
